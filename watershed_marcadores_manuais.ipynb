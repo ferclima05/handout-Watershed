{
 "cells": [
  {
   "cell_type": "markdown",
   "id": "75dbf3bd",
   "metadata": {},
   "source": [
    "# Segmentação Watershed com Marcadores Manuais"
   ]
  },
  {
   "cell_type": "markdown",
   "id": "dc9b43a5",
   "metadata": {},
   "source": [
    "### Etapa 1: Importar bibliotecas e carregar a imagem"
   ]
  },
  {
   "cell_type": "code",
   "execution_count": null,
   "id": "cd40f594",
   "metadata": {},
   "outputs": [],
   "source": [
    "import cv2\n",
    "import numpy as np\n",
    "\n",
    "# Carregar imagem\n",
    "imagem = cv2.imread('comprimidos.jpg')\n",
    "if imagem is None:\n",
    "    raise Exception(\"Imagem não encontrada. Verifique o caminho.\")\n",
    "img_copia = imagem.copy()\n",
    "marcadores = np.zeros(imagem.shape[:2], dtype=np.int32)\n",
    "cores = []\n",
    "id_atual = 1\n",
    "desenhando = False"
   ]
  },
  {
   "cell_type": "markdown",
   "id": "5a8efee2",
   "metadata": {},
   "source": [
    "### Etapa 2: Criar função interativa para desenhar marcadores"
   ]
  },
  {
   "cell_type": "code",
   "execution_count": null,
   "id": "fb297fd1",
   "metadata": {},
   "outputs": [
    {
     "name": "stdout",
     "output_type": "stream",
     "text": [
      "Instruções:\n",
      " - Use o mouse para desenhar marcadores (um objeto por vez)\n",
      " - Teclas 1 a 9 para escolher marcador\n",
      " - Pressione 'w' para aplicar watershed\n",
      " - Pressione 'r' para resetar\n",
      " - Pressione 'ESC' para sair\n"
     ]
    },
    {
     "ename": "KeyboardInterrupt",
     "evalue": "",
     "output_type": "error",
     "traceback": [
      "\u001b[0;31m---------------------------------------------------------------------------\u001b[0m",
      "\u001b[0;31mKeyboardInterrupt\u001b[0m                         Traceback (most recent call last)",
      "Cell \u001b[0;32mIn[5], line 31\u001b[0m\n\u001b[1;32m     29\u001b[0m \u001b[38;5;28;01mwhile\u001b[39;00m \u001b[38;5;28;01mTrue\u001b[39;00m:\n\u001b[1;32m     30\u001b[0m     cv2\u001b[38;5;241m.\u001b[39mimshow(\u001b[38;5;124m'\u001b[39m\u001b[38;5;124mImagem\u001b[39m\u001b[38;5;124m'\u001b[39m, img_copia)\n\u001b[0;32m---> 31\u001b[0m     tecla \u001b[38;5;241m=\u001b[39m \u001b[43mcv2\u001b[49m\u001b[38;5;241;43m.\u001b[39;49m\u001b[43mwaitKey\u001b[49m\u001b[43m(\u001b[49m\u001b[38;5;241;43m1\u001b[39;49m\u001b[43m)\u001b[49m \u001b[38;5;241m&\u001b[39m \u001b[38;5;241m0xFF\u001b[39m\n\u001b[1;32m     32\u001b[0m     \u001b[38;5;28;01mif\u001b[39;00m tecla \u001b[38;5;241m==\u001b[39m \u001b[38;5;241m27\u001b[39m:\n\u001b[1;32m     33\u001b[0m         \u001b[38;5;28;01mbreak\u001b[39;00m\n",
      "\u001b[0;31mKeyboardInterrupt\u001b[0m: "
     ]
    },
    {
     "ename": "",
     "evalue": "",
     "output_type": "error",
     "traceback": [
      "\u001b[1;31mThe Kernel crashed while executing code in the current cell or a previous cell. \n",
      "\u001b[1;31mPlease review the code in the cell(s) to identify a possible cause of the failure. \n",
      "\u001b[1;31mClick <a href='https://aka.ms/vscodeJupyterKernelCrash'>here</a> for more info. \n",
      "\u001b[1;31mView Jupyter <a href='command:jupyter.viewOutput'>log</a> for further details."
     ]
    }
   ],
   "source": [
    "# Função de desenho com o mouse\n",
    "def desenhar(event, x, y, flags, param):\n",
    "    global desenhando, id_atual\n",
    "    if event == cv2.EVENT_LBUTTONDOWN:\n",
    "        desenhando = True\n",
    "        cv2.circle(img_copia, (x, y), 5, cores[id_atual], -1)\n",
    "        cv2.circle(marcadores, (x, y), 5, id_atual, -1)\n",
    "    elif event == cv2.EVENT_MOUSEMOVE and desenhando:\n",
    "        cv2.circle(img_copia, (x, y), 5, cores[id_atual], -1)\n",
    "        cv2.circle(marcadores, (x, y), 5, id_atual, -1)\n",
    "    elif event == cv2.EVENT_LBUTTONUP:\n",
    "        desenhando = False\n",
    "\n",
    "# Gera cores para até 10 marcadores\n",
    "for i in range(10):\n",
    "    cores.append(tuple(np.random.randint(0, 255, 3).tolist()))\n",
    "\n",
    "# Interface de desenho\n",
    "cv2.namedWindow('Imagem')\n",
    "cv2.setMouseCallback('Imagem', desenhar)\n",
    "\n",
    "print(\"Instruções:\")\n",
    "print(\" - Use o mouse para desenhar marcadores (um objeto por vez)\")\n",
    "print(\" - Teclas 1 a 9 para escolher marcador\")\n",
    "print(\" - Pressione 'w' para aplicar watershed\")\n",
    "print(\" - Pressione 'r' para resetar\")\n",
    "print(\" - Pressione 'ESC' para sair\")\n",
    "\n",
    "while True:\n",
    "    cv2.imshow('Imagem', img_copia)\n",
    "    tecla = cv2.waitKey(1) & 0xFF\n",
    "    if tecla == 27:\n",
    "        break\n",
    "    elif tecla == ord('r'):\n",
    "        img_copia = imagem.copy()\n",
    "        marcadores[:, :] = 0\n",
    "    elif tecla == ord('w'):\n",
    "        img_ws = imagem.copy()\n",
    "        cv2.watershed(img_ws, marcadores)\n",
    "        img_ws[marcadores == -1] = [0, 0, 255]\n",
    "        cv2.imshow(\"Resultado Watershed\", img_ws)\n",
    "    elif chr(tecla).isdigit() and int(chr(tecla)) < len(cores):\n",
    "        id_atual = int(chr(tecla))\n",
    "\n",
    "cv2.destroyAllWindows()"
   ]
  }
 ],
 "metadata": {
  "kernelspec": {
   "display_name": "Python 3",
   "language": "python",
   "name": "python3"
  },
  "language_info": {
   "codemirror_mode": {
    "name": "ipython",
    "version": 3
   },
   "file_extension": ".py",
   "mimetype": "text/x-python",
   "name": "python",
   "nbconvert_exporter": "python",
   "pygments_lexer": "ipython3",
   "version": "3.10.12"
  }
 },
 "nbformat": 4,
 "nbformat_minor": 5
}
