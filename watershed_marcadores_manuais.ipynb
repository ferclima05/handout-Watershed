{
 "cells": [
  {
   "cell_type": "markdown",
   "id": "75dbf3bd",
   "metadata": {},
   "source": [
    "# Segmentação Watershed com Marcadores Manuais"
   ]
  },
  {
   "cell_type": "markdown",
   "id": "dc9b43a5",
   "metadata": {},
   "source": [
    "### Etapa 1: Importar bibliotecas e carregar a imagem"
   ]
  },
  {
   "cell_type": "code",
   "execution_count": 1,
   "id": "cd40f594",
   "metadata": {},
   "outputs": [],
   "source": [
    "import cv2\n",
    "import numpy as np\n",
    "\n",
    "# Carregar imagem\n",
    "imagem = cv2.imread('moedas.png')\n",
    "if imagem is None:\n",
    "    raise Exception(\"Imagem não encontrada. Verifique o caminho.\")\n",
    "img_copia = imagem.copy()\n",
    "marcadores = np.zeros(imagem.shape[:2], dtype=np.int32)\n",
    "cores = []\n",
    "id_atual = 1\n",
    "desenhando = False"
   ]
  },
  {
   "cell_type": "markdown",
   "id": "5a8efee2",
   "metadata": {},
   "source": [
    "### Etapa 2: Criar função interativa para desenhar marcadores"
   ]
  },
  {
   "cell_type": "code",
   "execution_count": 3,
   "id": "fb297fd1",
   "metadata": {},
   "outputs": [
    {
     "name": "stdout",
     "output_type": "stream",
     "text": [
      "Instruções:\n",
      " - Use o mouse para desenhar marcadores (um objeto por vez)\n",
      " - Teclas 1 a 9 para escolher marcador\n",
      " - Pressione 'w' para aplicar watershed\n",
      " - Pressione 'r' para resetar\n",
      " - Pressione 'ESC' para sair\n"
     ]
    }
   ],
   "source": [
    "# Função de desenho com o mouse\n",
    "def desenhar(event, x, y, flags, param):\n",
    "    global desenhando, id_atual\n",
    "    if event == cv2.EVENT_LBUTTONDOWN:\n",
    "        desenhando = True\n",
    "        cv2.circle(img_copia, (x, y), 5, cores[id_atual], -1)\n",
    "        cv2.circle(marcadores, (x, y), 5, id_atual, -1)\n",
    "    elif event == cv2.EVENT_MOUSEMOVE and desenhando:\n",
    "        cv2.circle(img_copia, (x, y), 5, cores[id_atual], -1)\n",
    "        cv2.circle(marcadores, (x, y), 5, id_atual, -1)\n",
    "    elif event == cv2.EVENT_LBUTTONUP:\n",
    "        desenhando = False\n",
    "\n",
    "# Gera cores para até 10 marcadores\n",
    "for i in range(10):\n",
    "    cores.append(tuple(np.random.randint(0, 255, 3).tolist()))\n",
    "\n",
    "# Interface de desenho\n",
    "cv2.namedWindow('Imagem')\n",
    "cv2.setMouseCallback('Imagem', desenhar)\n",
    "\n",
    "print(\"Instruções:\")\n",
    "print(\" - Use o mouse para desenhar marcadores (um objeto por vez)\")\n",
    "print(\" - Teclas 1 a 9 para escolher marcador\")\n",
    "print(\" - Pressione 'w' para aplicar watershed\")\n",
    "print(\" - Pressione 'r' para resetar\")\n",
    "print(\" - Pressione 'ESC' para sair\")\n",
    "\n",
    "while True:\n",
    "    cv2.imshow('Imagem', img_copia)\n",
    "    tecla = cv2.waitKey(1) & 0xFF\n",
    "    if tecla == 27:\n",
    "        break\n",
    "    elif tecla == ord('r'):\n",
    "        img_copia = imagem.copy()\n",
    "        marcadores[:, :] = 0\n",
    "    elif tecla == ord('w'):\n",
    "        img_ws = imagem.copy()\n",
    "        cv2.watershed(img_ws, marcadores)\n",
    "        img_ws[marcadores == -1] = [0, 0, 255]\n",
    "        cv2.imshow(\"Resultado Watershed\", img_ws)\n",
    "    elif chr(tecla).isdigit() and int(chr(tecla)) < len(cores):\n",
    "        id_atual = int(chr(tecla))\n",
    "\n",
    "cv2.destroyAllWindows()"
   ]
  }
 ],
 "metadata": {
  "kernelspec": {
   "display_name": "Python 3",
   "language": "python",
   "name": "python3"
  },
  "language_info": {
   "codemirror_mode": {
    "name": "ipython",
    "version": 3
   },
   "file_extension": ".py",
   "mimetype": "text/x-python",
   "name": "python",
   "nbconvert_exporter": "python",
   "pygments_lexer": "ipython3",
   "version": "3.12.6"
  }
 },
 "nbformat": 4,
 "nbformat_minor": 5
}
